{
 "cells": [
  {
   "cell_type": "markdown",
   "metadata": {
    "id": "SnEOdqCP2HHs"
   },
   "source": [
    "# Python the basics: control flows\n",
    "\n",
    "> *DS Data manipulation, analysis and visualisation in Python*  \n",
    "> *September, 2020*\n"
   ]
  },
  {
   "cell_type": "markdown",
   "metadata": {
    "id": "tLR5KPiV2HH4"
   },
   "source": [
    "## Control flow"
   ]
  },
  {
   "cell_type": "markdown",
   "metadata": {
    "id": "A-zaBS_C2HH6"
   },
   "source": [
    "### if / elif / else"
   ]
  },
  {
   "cell_type": "markdown",
   "metadata": {
    "id": "E7C9FGC52HH8"
   },
   "source": [
    "**Synthax**\n",
    "> if (boolean expression):\n",
    "\n",
    ">     do this if true \n",
    "\n",
    "> elif (boolean expression):\n",
    "\n",
    ">     do this if this is true and if condition is false\n",
    "\n",
    "> else:\n",
    "\n",
    ">     in all other cases\n",
    "\n",
    "**Blocks are delimited by indentation**\n",
    "\n",
    "Be careful to respect the indentation depth. The Ipython shell automatically increases the indentation depth after a column : sign; to decrease the indentation depth, go four spaces to the left with the Backspace key. Press the Enter key twice to leave the logical block."
   ]
  },
  {
   "cell_type": "raw",
   "metadata": {
    "id": "hpTwyDIS2HH_"
   },
   "source": [
    "> syntax:\n",
    "\n",
    "> if (boolean expression):\n",
    "\n",
    ">     do this if true "
   ]
  },
  {
   "cell_type": "code",
   "execution_count": 4,
   "metadata": {
    "colab": {
     "base_uri": "https://localhost:8080/"
    },
    "executionInfo": {
     "elapsed": 4138,
     "status": "ok",
     "timestamp": 1635173049912,
     "user": {
      "displayName": "Yacine ASLIMI",
      "photoUrl": "https://lh3.googleusercontent.com/a/default-user=s64",
      "userId": "17203730376393528118"
     },
     "user_tz": -120
    },
    "id": "u3qKhp-d5qpD",
    "outputId": "e2c3f12f-0234-4ff6-f8aa-312c407825dd"
   },
   "outputs": [
    {
     "name": "stdout",
     "output_type": "stream",
     "text": [
      "12\n"
     ]
    }
   ],
   "source": [
    "an_int = int(input()) #### convertir la str en int"
   ]
  },
  {
   "cell_type": "code",
   "execution_count": 10,
   "metadata": {
    "colab": {
     "base_uri": "https://localhost:8080/"
    },
    "executionInfo": {
     "elapsed": 3831,
     "status": "ok",
     "timestamp": 1635173155881,
     "user": {
      "displayName": "Yacine ASLIMI",
      "photoUrl": "https://lh3.googleusercontent.com/a/default-user=s64",
      "userId": "17203730376393528118"
     },
     "user_tz": -120
    },
    "id": "IelnPeH26WlJ",
    "outputId": "6bc2443a-5b12-4de4-83a2-ce9b5ab51eb5"
   },
   "outputs": [
    {
     "name": "stdout",
     "output_type": "stream",
     "text": [
      "5\n"
     ]
    }
   ],
   "source": [
    "an_int = input() #### saisir une valeur\n",
    "an_int = int(an_int) #### caster la valeur saisie en int"
   ]
  },
  {
   "cell_type": "code",
   "execution_count": 6,
   "metadata": {
    "executionInfo": {
     "elapsed": 262,
     "status": "ok",
     "timestamp": 1635173076629,
     "user": {
      "displayName": "Yacine ASLIMI",
      "photoUrl": "https://lh3.googleusercontent.com/a/default-user=s64",
      "userId": "17203730376393528118"
     },
     "user_tz": -120
    },
    "id": "7kppODaO6PA4"
   },
   "outputs": [],
   "source": [
    "an_int2 = 17"
   ]
  },
  {
   "cell_type": "code",
   "execution_count": 14,
   "metadata": {
    "colab": {
     "base_uri": "https://localhost:8080/"
    },
    "executionInfo": {
     "elapsed": 291,
     "status": "ok",
     "timestamp": 1635173362578,
     "user": {
      "displayName": "Yacine ASLIMI",
      "photoUrl": "https://lh3.googleusercontent.com/a/default-user=s64",
      "userId": "17203730376393528118"
     },
     "user_tz": -120
    },
    "id": "Paobu1n36Aqg",
    "outputId": "770db1a3-76e4-4035-b78c-ffac41540e8c"
   },
   "outputs": [
    {
     "name": "stdout",
     "output_type": "stream",
     "text": [
      "Variable   Type    Data/Info\n",
      "----------------------------\n",
      "an_int     int     5\n",
      "an_int2    int     17\n"
     ]
    }
   ],
   "source": [
    "%whos"
   ]
  },
  {
   "cell_type": "code",
   "execution_count": 1,
   "metadata": {
    "colab": {
     "base_uri": "https://localhost:8080/"
    },
    "executionInfo": {
     "elapsed": 226,
     "status": "ok",
     "timestamp": 1635173330071,
     "user": {
      "displayName": "Yacine ASLIMI",
      "photoUrl": "https://lh3.googleusercontent.com/a/default-user=s64",
      "userId": "17203730376393528118"
     },
     "user_tz": -120
    },
    "id": "IUfdSjle2HIB",
    "outputId": "c1aec34a-30ed-467a-d8ef-e946b7899ef3",
    "run_control": {
     "frozen": false,
     "read_only": false
    }
   },
   "outputs": [
    {
     "name": "stdout",
     "output_type": "stream",
     "text": [
      "2\n"
     ]
    }
   ],
   "source": [
    "an_int = 2\n",
    "if an_int == 1: #### Cas 1\n",
    "  print(1)\n",
    "elif an_int == 2: #### CAs 2\n",
    "  print(2)\n",
    "elif an_int ==5 :\n",
    "  print(5) #### Affichage de 5\n",
    "else:\n",
    "  print('A lot') ### Ensemble des cas"
   ]
  },
  {
   "cell_type": "code",
   "execution_count": 2,
   "metadata": {
    "executionInfo": {
     "elapsed": 276,
     "status": "ok",
     "timestamp": 1635173907341,
     "user": {
      "displayName": "Yacine ASLIMI",
      "photoUrl": "https://lh3.googleusercontent.com/a/default-user=s64",
      "userId": "17203730376393528118"
     },
     "user_tz": -120
    },
    "id": "hr1650ee8XCk"
   },
   "outputs": [],
   "source": [
    "an_int = 5"
   ]
  },
  {
   "cell_type": "code",
   "execution_count": 3,
   "metadata": {
    "colab": {
     "base_uri": "https://localhost:8080/"
    },
    "executionInfo": {
     "elapsed": 280,
     "status": "ok",
     "timestamp": 1635173920930,
     "user": {
      "displayName": "Yacine ASLIMI",
      "photoUrl": "https://lh3.googleusercontent.com/a/default-user=s64",
      "userId": "17203730376393528118"
     },
     "user_tz": -120
    },
    "id": "CVSHhOly7uOd",
    "outputId": "1d883dc9-e67e-4b3b-edde-3dc3a4c192b5"
   },
   "outputs": [
    {
     "name": "stdout",
     "output_type": "stream",
     "text": [
      "Egal à 5\n"
     ]
    }
   ],
   "source": [
    "#an_int = 2\n",
    "if an_int < 0: #### Cas 1\n",
    "  print(\"Négatif\")\n",
    "elif (an_int != 5) :\n",
    "  print(\"Différent de 5 et positif\") #### Affichage de 5\n",
    "else:\n",
    "  print(\"Egal à 5\")\n"
   ]
  },
  {
   "cell_type": "markdown",
   "metadata": {
    "id": "V8k3FRWi2HIF"
   },
   "source": [
    "### for / range"
   ]
  },
  {
   "cell_type": "markdown",
   "metadata": {
    "id": "fWeXq-kQ2HIH"
   },
   "source": [
    "iterating can be over indices (ints) or over values"
   ]
  },
  {
   "cell_type": "code",
   "execution_count": 5,
   "metadata": {
    "id": "qBeDNwPV2HII",
    "run_control": {
     "frozen": false,
     "read_only": false
    }
   },
   "outputs": [
    {
     "name": "stdout",
     "output_type": "stream",
     "text": [
      "0\n",
      "1\n",
      "2\n",
      "3\n",
      "Python is cool!\n",
      "Python is powerful!\n",
      "Python is readable!\n"
     ]
    }
   ],
   "source": [
    "for index in range(4):\n",
    "    print(index)\n",
    "\n",
    "for word in ('cool', 'powerful', 'readable'):\n",
    "     #remember string formatting?\n",
    "    print('Python is {}!'.format(word))"
   ]
  },
  {
   "cell_type": "markdown",
   "metadata": {
    "id": "qQtkVQxO2HIK"
   },
   "source": [
    "### while"
   ]
  },
  {
   "cell_type": "markdown",
   "metadata": {
    "id": "Aj5BNC5D2HIM"
   },
   "source": [
    "Typical C-style while loop"
   ]
  },
  {
   "cell_type": "code",
   "execution_count": 9,
   "metadata": {
    "id": "UBKbXfjL2HIN",
    "run_control": {
     "frozen": false,
     "read_only": false
    }
   },
   "outputs": [
    {
     "name": "stdout",
     "output_type": "stream",
     "text": [
      "376.64306710730784\n"
     ]
    }
   ],
   "source": [
    "z = 1 + 1j\n",
    "# Mandelbrot problem\n",
    "while abs(z) < 100:\n",
    "    z = z**2 + 1\n",
    "print(abs(z))"
   ]
  },
  {
   "cell_type": "markdown",
   "metadata": {
    "id": "DFKy0KQQ2HIO"
   },
   "source": [
    "### break / continue"
   ]
  },
  {
   "cell_type": "markdown",
   "metadata": {
    "id": "NPNdFKnM2HIP"
   },
   "source": [
    "*break* out of enclosing for/while loop"
   ]
  },
  {
   "cell_type": "code",
   "execution_count": 10,
   "metadata": {
    "id": "YVU4Uhyt2HIQ",
    "run_control": {
     "frozen": false,
     "read_only": false
    }
   },
   "outputs": [
    {
     "name": "stdout",
     "output_type": "stream",
     "text": [
      "(-11-16j)\n"
     ]
    }
   ],
   "source": [
    "z = 1 + 1j\n",
    "# Mandelbrot problem\n",
    "while abs(z) < 100:\n",
    "    # breaks if imaginary part is negative\n",
    "    if z.imag < 0:\n",
    "        break\n",
    "    z = z**2 + 1\n",
    "print(z)"
   ]
  },
  {
   "cell_type": "markdown",
   "metadata": {
    "id": "YvTDKx_d2HIR"
   },
   "source": [
    "*continue* the next iteration of a loop"
   ]
  },
  {
   "cell_type": "code",
   "execution_count": 12,
   "metadata": {
    "id": "I3WCUJXv2HIS",
    "run_control": {
     "frozen": false,
     "read_only": false
    }
   },
   "outputs": [
    {
     "name": "stdout",
     "output_type": "stream",
     "text": [
      "printing the inverse of the integers, excluding division by zero\n",
      "1.0\n",
      "0.5\n",
      "0.25\n"
     ]
    }
   ],
   "source": [
    "aList = [1, 0, 2, 4]\n",
    "print('printing the inverse of the integers, excluding division by zero')\n",
    "for element in aList:\n",
    "    if element == 0:\n",
    "        continue\n",
    "    print(1. / element)"
   ]
  },
  {
   "cell_type": "markdown",
   "metadata": {
    "id": "GeCUMQYu2HIS"
   },
   "source": [
    "### conditional expressions"
   ]
  },
  {
   "cell_type": "markdown",
   "metadata": {
    "id": "YFB7Nwc32HIT"
   },
   "source": [
    "> if < OBJECT > :\n",
    "\n",
    "\n",
    "Evaluates to False:\n",
    "\n",
    "* any number equal to zero (0, 0.0, 0+0j)\n",
    "* an empty container (list, tuple, set, dictionary, ...)\n",
    "* False, None\n",
    "\n",
    "Evaluates to True:\n",
    "\n",
    "* everything else\n",
    "\n"
   ]
  },
  {
   "cell_type": "markdown",
   "metadata": {
    "id": "VpYV3Yn92HIU"
   },
   "source": [
    "> a == b\n",
    "\n",
    "Tests equality, with logics"
   ]
  },
  {
   "cell_type": "code",
   "execution_count": null,
   "metadata": {
    "id": "nw8GAX8r2HIU",
    "run_control": {
     "frozen": false,
     "read_only": false
    }
   },
   "outputs": [],
   "source": [
    "1 == 1"
   ]
  },
  {
   "cell_type": "markdown",
   "metadata": {
    "id": "VFubWl8V2HIV"
   },
   "source": [
    "> a is b:\n",
    "\n",
    "Tests identity: both sides are the **same object**"
   ]
  },
  {
   "cell_type": "code",
   "execution_count": 17,
   "metadata": {
    "id": "6TfxCmV92HIV",
    "run_control": {
     "frozen": false,
     "read_only": false
    }
   },
   "outputs": [
    {
     "name": "stdout",
     "output_type": "stream",
     "text": [
      "False\n",
      "True\n"
     ]
    },
    {
     "name": "stderr",
     "output_type": "stream",
     "text": [
      "<>:1: SyntaxWarning: \"is\" with a literal. Did you mean \"==\"?\n",
      "<>:1: SyntaxWarning: \"is\" with a literal. Did you mean \"==\"?\n",
      "<ipython-input-17-48eac1aa5297>:1: SyntaxWarning: \"is\" with a literal. Did you mean \"==\"?\n",
      "  print(1 is 1.)\n"
     ]
    }
   ],
   "source": [
    "print(1 is 1.)\n",
    "a = 1\n",
    "b = 1 \n",
    "print (a is b)"
   ]
  },
  {
   "cell_type": "markdown",
   "metadata": {
    "id": "mdHZY0Ab2HIW"
   },
   "source": [
    "> a in b:\n",
    "\n",
    "For any collection b: b contains a\n",
    "\n",
    "If b is a dictionary, this tests that a is a key of b."
   ]
  },
  {
   "cell_type": "code",
   "execution_count": 18,
   "metadata": {
    "id": "J61IHQ622HIX",
    "run_control": {
     "frozen": false,
     "read_only": false
    }
   },
   "outputs": [
    {
     "data": {
      "text/plain": [
       "True"
      ]
     },
     "execution_count": 18,
     "metadata": {},
     "output_type": "execute_result"
    }
   ],
   "source": [
    "a_list = [1, 2, 3]\n",
    "2 in a_list"
   ]
  },
  {
   "cell_type": "code",
   "execution_count": 19,
   "metadata": {
    "id": "I4bG9FPf2HIX",
    "run_control": {
     "frozen": false,
     "read_only": false
    }
   },
   "outputs": [
    {
     "data": {
      "text/plain": [
       "False"
      ]
     },
     "execution_count": 19,
     "metadata": {},
     "output_type": "execute_result"
    }
   ],
   "source": [
    "'ae' in a_list\n"
   ]
  },
  {
   "cell_type": "code",
   "execution_count": 21,
   "metadata": {
    "id": "zFdMKcH92HIY",
    "run_control": {
     "frozen": false,
     "read_only": false
    }
   },
   "outputs": [
    {
     "data": {
      "text/plain": [
       "True"
      ]
     },
     "execution_count": 21,
     "metadata": {},
     "output_type": "execute_result"
    }
   ],
   "source": [
    "3 in a_list"
   ]
  },
  {
   "cell_type": "code",
   "execution_count": 23,
   "metadata": {
    "id": "-cZTM7Ec2HIY",
    "run_control": {
     "frozen": false,
     "read_only": false
    }
   },
   "outputs": [
    {
     "data": {
      "text/plain": [
       "True"
      ]
     },
     "execution_count": 23,
     "metadata": {},
     "output_type": "execute_result"
    }
   ],
   "source": [
    "a_dict = {'theKey' : 'theValue'}\n",
    "'theKey' in a_dict"
   ]
  },
  {
   "cell_type": "code",
   "execution_count": 24,
   "metadata": {
    "id": "jVUy8y7b2HIZ",
    "run_control": {
     "frozen": false,
     "read_only": false
    }
   },
   "outputs": [
    {
     "data": {
      "text/plain": [
       "False"
      ]
     },
     "execution_count": 24,
     "metadata": {},
     "output_type": "execute_result"
    }
   ],
   "source": [
    "'theValue' in a_dict"
   ]
  },
  {
   "cell_type": "code",
   "execution_count": null,
   "metadata": {
    "id": "glG5m_CA2HIZ",
    "run_control": {
     "frozen": false,
     "read_only": false
    }
   },
   "outputs": [],
   "source": [
    "dd = {'antea': 3, 'IMDC': 2, 'arcadis': 4, 'witteveen': 5, 'grontmij': 1}"
   ]
  },
  {
   "cell_type": "markdown",
   "metadata": {
    "id": "_KntS1iU2HIa"
   },
   "source": [
    "<div class=\"alert alert-success\">\n",
    "    <b>EXERCISE</b>: Return the key of an item in the dictionary `dd` if the value is provided (assume that the user is always providing a value that is part of the dictionary and all values only occur once). Make sure the returned key is formatted as capitals and use `value=3` to test:\n",
    "</div>"
   ]
  },
  {
   "cell_type": "code",
   "execution_count": null,
   "metadata": {
    "id": "OoKFTi8A2HIa"
   },
   "outputs": [],
   "source": [
    "value = 2"
   ]
  },
  {
   "cell_type": "code",
   "execution_count": null,
   "metadata": {
    "id": "_eZmBdT_2HIb"
   },
   "outputs": [],
   "source": []
  },
  {
   "cell_type": "markdown",
   "metadata": {
    "id": "j5hThZk52HId"
   },
   "source": [
    "<div class=\"alert alert-success\">\n",
    "    <b>EXERCISE</b>: Given the dictionary `dd`, check if a key is already existing in the dictionary and print a message `already in dictionary`. Use 'antea' as string to check for.\n",
    "</div>"
   ]
  },
  {
   "cell_type": "code",
   "execution_count": 3,
   "metadata": {
    "id": "DLh69oVc2HIf"
   },
   "outputs": [
    {
     "data": {
      "text/plain": [
       "260"
      ]
     },
     "execution_count": 3,
     "metadata": {},
     "output_type": "execute_result"
    }
   ],
   "source": [
    "def calc_pyth(a,b):\n",
    "   return a**a+b**b\n",
    "\n",
    "calc_pyth(4,2)"
   ]
  },
  {
   "cell_type": "code",
   "execution_count": null,
   "metadata": {},
   "outputs": [],
   "source": []
  },
  {
   "cell_type": "markdown",
   "metadata": {
    "id": "HOiTciYx2HIg"
   },
   "source": [
    "------------------------"
   ]
  },
  {
   "cell_type": "markdown",
   "metadata": {
    "id": "7wOPDzgl2HIg"
   },
   "source": [
    "## Advanced iteration"
   ]
  },
  {
   "cell_type": "markdown",
   "metadata": {
    "id": "jbPWv8rw2HIh"
   },
   "source": [
    "#### Iterate over any sequence"
   ]
  },
  {
   "cell_type": "markdown",
   "metadata": {
    "id": "OkKfNgTq2HIh"
   },
   "source": [
    "You can iterate over any sequence (string, list, keys in a dictionary, lines in a file, ...)"
   ]
  },
  {
   "cell_type": "code",
   "execution_count": 4,
   "metadata": {
    "id": "FzusL0_T2HIi",
    "run_control": {
     "frozen": false,
     "read_only": false
    }
   },
   "outputs": [
    {
     "name": "stdout",
     "output_type": "stream",
     "text": [
      "o\n",
      "e\n",
      "u\n"
     ]
    }
   ],
   "source": [
    "vowels = 'aeiouy'\n",
    "for i in 'powerful':\n",
    "    if i in vowels:\n",
    "        print(i)"
   ]
  },
  {
   "cell_type": "code",
   "execution_count": 5,
   "metadata": {
    "id": "ijzMHksK2HIi",
    "run_control": {
     "frozen": false,
     "read_only": false
    }
   },
   "outputs": [
    {
     "name": "stdout",
     "output_type": "stream",
     "text": [
      "Hello\n",
      "how\n",
      "are\n",
      "you?\n"
     ]
    }
   ],
   "source": [
    "message = \"Hello how are you?\"\n",
    "message.split() # returns a list\n",
    "for word in message.split():\n",
    "    print(word)    "
   ]
  },
  {
   "cell_type": "markdown",
   "metadata": {
    "id": "fu8x_yQ82HIj"
   },
   "source": [
    "Few languages (in particular, languages for scientific computing) allow to loop over anything but integers/indices. With Python it is possible to loop exactly over the objects of interest without bothering with indices you often don’t care about. This feature can often be used to make code more readable."
   ]
  },
  {
   "cell_type": "markdown",
   "metadata": {
    "id": "KzaW3zPc2HIk"
   },
   "source": [
    "#### Keeping track of enumeration number"
   ]
  },
  {
   "cell_type": "markdown",
   "metadata": {
    "id": "boCUhfxf2HIl"
   },
   "source": [
    "Common task is to iterate over a sequence while keeping track of the item number.\n",
    "* Could use while loop with a counter as above. Or a for loop:"
   ]
  },
  {
   "cell_type": "code",
   "execution_count": null,
   "metadata": {
    "id": "enFc9XYi2HIl",
    "run_control": {
     "frozen": false,
     "read_only": false
    }
   },
   "outputs": [],
   "source": [
    "words = ('cool', 'powerful', 'readable')\n",
    "for i in range(0, len(words)):\n",
    "    print(i, words[i])"
   ]
  },
  {
   "cell_type": "markdown",
   "metadata": {
    "id": "CXP7shsj2HIl"
   },
   "source": [
    "* But, Python provides enumerate keyword for this:"
   ]
  },
  {
   "cell_type": "code",
   "execution_count": null,
   "metadata": {
    "id": "9WJDTgJ52HIm",
    "run_control": {
     "frozen": false,
     "read_only": false
    }
   },
   "outputs": [],
   "source": [
    "for index, item in enumerate(words):\n",
    "    print(index, item)"
   ]
  },
  {
   "cell_type": "markdown",
   "metadata": {
    "id": "3745eNlC2HIm"
   },
   "source": [
    "Or combine elements of two containers:"
   ]
  },
  {
   "cell_type": "code",
   "execution_count": null,
   "metadata": {
    "id": "weTYHe-t2HIn",
    "run_control": {
     "frozen": false,
     "read_only": false
    }
   },
   "outputs": [],
   "source": [
    "tea = 'tea'\n",
    "for word, let in zip(words, tea):\n",
    "    print(word, let)"
   ]
  },
  {
   "cell_type": "markdown",
   "metadata": {
    "id": "45da5T1P2HIn"
   },
   "source": [
    "This can be extended with more iterating options (check the itertools! http://pymotw.com/2/itertools/ !)"
   ]
  },
  {
   "cell_type": "markdown",
   "metadata": {
    "id": "I0ThtTI_2HIn"
   },
   "source": [
    "#### Looping over dictionary"
   ]
  },
  {
   "cell_type": "markdown",
   "metadata": {
    "id": "rcXrIsUF2HIo"
   },
   "source": [
    "use **items()**"
   ]
  },
  {
   "cell_type": "code",
   "execution_count": null,
   "metadata": {
    "id": "9IxqjJAB2HIo",
    "run_control": {
     "frozen": false,
     "read_only": false
    }
   },
   "outputs": [],
   "source": [
    "a_dict = {'One': 1, 'Two':2, 'Three':3}\n",
    "for key, val in a_dict.items():\n",
    "    print('Key: {} has value: {}'.format(key, val))"
   ]
  },
  {
   "cell_type": "code",
   "execution_count": null,
   "metadata": {
    "id": "HXak6huO2HIo",
    "run_control": {
     "frozen": false,
     "read_only": false
    }
   },
   "outputs": [],
   "source": [
    "for key in a_dict.keys():\n",
    "    print('Key: {}'.format(key))"
   ]
  },
  {
   "cell_type": "markdown",
   "metadata": {
    "id": "W7B7f6Kl2HIp"
   },
   "source": [
    "<div class=\"alert alert-success\">\n",
    "    <b>EXERCISE</b>: Write code that accepts a sentence and calculate the number of letters and digits.<br>\n",
    " \n",
    "Suppose the following input is supplied to the program:<br><br>\n",
    "\n",
    "    \"hello world! 123\"<br><br>\n",
    "    \n",
    "Then, the output should be:<br>\n",
    "\n",
    "    LETTERS 10<br>\n",
    "    DIGITS 3<br><br>\n",
    "    \n",
    "and store the number of letters and digits in a dictionary d={\"DIGITS\": #digits, \"LETTERS\": #letters}\n",
    "</div>\n"
   ]
  },
  {
   "cell_type": "code",
   "execution_count": null,
   "metadata": {},
   "outputs": [],
   "source": [
    "#### Exercice 2: Pythagore: Calcul du troisième coté d'un triangle en utilisant une fonction\n",
    "\n",
    "\n",
    "#### Entrée: a, b (int) : note a, b int --> float, str, boolean, \n",
    "#### Sortie: c\n",
    "\n",
    "#### Gestion des exceptions pours les cas suivants:\n",
    "\n",
    "\n",
    "#### Saisie d'une str dans les arguments de la fonction\n",
    "#### Sasie un nombre complexe\n",
    "#### Saisie d'un nombre négatif\n",
    "#### Saisie d'un très grand nombre\n",
    "#### Saisie d'un très petit nombre"
   ]
  },
  {
   "cell_type": "code",
   "execution_count": 10,
   "metadata": {
    "id": "PfLBfgmj2HIp"
   },
   "outputs": [
    {
     "data": {
      "text/plain": [
       "3129"
      ]
     },
     "execution_count": 10,
     "metadata": {},
     "output_type": "execute_result"
    }
   ],
   "source": [
    "def Calcul_Pythagore(a, b):\n",
    "       return a**a+b**b\n",
    "\n",
    "\n",
    "Calcul_Pythagore(5,2)"
   ]
  },
  {
   "cell_type": "markdown",
   "metadata": {
    "id": "snIJwAxQ2HIp"
   },
   "source": [
    "---------------------"
   ]
  },
  {
   "cell_type": "markdown",
   "metadata": {
    "collapsed": true,
    "id": "t89o3zPN2HIq"
   },
   "source": [
    "## Exception handling"
   ]
  },
  {
   "cell_type": "markdown",
   "metadata": {
    "collapsed": true,
    "id": "xmxV45Xi2HIq"
   },
   "source": [
    "Exceptions are raised by errors in Python:"
   ]
  },
  {
   "cell_type": "code",
   "execution_count": null,
   "metadata": {
    "id": "kmQ6Utwk2HIq",
    "run_control": {
     "frozen": false,
     "read_only": false
    }
   },
   "outputs": [],
   "source": [
    "# 1/0 # uncomment this cell"
   ]
  },
  {
   "cell_type": "code",
   "execution_count": null,
   "metadata": {
    "id": "Jp2oAbJU2HIr",
    "run_control": {
     "frozen": false,
     "read_only": false
    }
   },
   "outputs": [],
   "source": [
    "## uncomment the following lines in this cell\n",
    "#d = {1:1, 2:2}  \n",
    "#d[3]"
   ]
  },
  {
   "cell_type": "code",
   "execution_count": null,
   "metadata": {
    "id": "VIHCUTn22HIs",
    "run_control": {
     "frozen": false,
     "read_only": false
    }
   },
   "outputs": [],
   "source": [
    "## uncomment the following lines in this cell\n",
    "#l = [1, 2, 3]\n",
    "#l.foobar"
   ]
  },
  {
   "cell_type": "markdown",
   "metadata": {
    "collapsed": true,
    "id": "I4kTHV7n2HIt"
   },
   "source": [
    "As you can see, there are **different types of exceptions** for different errors."
   ]
  },
  {
   "cell_type": "markdown",
   "metadata": {
    "id": "ATG1xIug2HIu"
   },
   "source": [
    "### raise Exception"
   ]
  },
  {
   "cell_type": "code",
   "execution_count": null,
   "metadata": {
    "id": "fTD17Gpx2HIu",
    "run_control": {
     "frozen": false,
     "read_only": false
    }
   },
   "outputs": [],
   "source": [
    "k = 'a_string'   # test yourself with integer value, e.g. 3\n",
    "if not isinstance(k, str):\n",
    "    raise Exception('Provide a string as input!')"
   ]
  },
  {
   "cell_type": "markdown",
   "metadata": {
    "id": "SQj9bCmA2HIv"
   },
   "source": [
    "You can also be more precise about the type of error, eg. TypeError. A list of default provided exceptions is given here: https://docs.python.org/2/library/exceptions.html"
   ]
  },
  {
   "cell_type": "markdown",
   "metadata": {
    "id": "kBcovLdX2HIv"
   },
   "source": [
    "    "
   ]
  },
  {
   "cell_type": "markdown",
   "metadata": {
    "collapsed": true,
    "id": "9vFH-FRw2HIw"
   },
   "source": [
    "### try/except: catching exceptions"
   ]
  },
  {
   "cell_type": "markdown",
   "metadata": {
    "collapsed": true,
    "id": "iZHCaHUq2HIw"
   },
   "source": [
    "> try:\n",
    "\n",
    ">     do something\n",
    "\n",
    "> except:\n",
    "\n",
    ">     do this if the other was raising an error"
   ]
  },
  {
   "cell_type": "markdown",
   "metadata": {
    "id": "bSC_EhoR2HIy"
   },
   "source": [
    "Different exceptions can be combined, rasingin different type of errors:"
   ]
  },
  {
   "cell_type": "code",
   "execution_count": null,
   "metadata": {
    "id": "ln4zc8WY2HIz",
    "run_control": {
     "frozen": false,
     "read_only": false
    }
   },
   "outputs": [],
   "source": [
    "k = 'f6'\n",
    "import sys\n",
    "try:\n",
    "    i = int(k)\n",
    "except ValueError:\n",
    "    print(\"Could not convert data to an integer.\")\n",
    "except:\n",
    "    print(\"Unexpected error:\", sys.exc_info()[0])\n",
    "    raise\n",
    "    "
   ]
  }
 ],
 "metadata": {
  "colab": {
   "name": "02-control_flow-Enoncé (1) (3).ipynb",
   "provenance": []
  },
  "kernelspec": {
   "display_name": "Python 3",
   "language": "python",
   "name": "python3"
  },
  "language_info": {
   "codemirror_mode": {
    "name": "ipython",
    "version": 3
   },
   "file_extension": ".py",
   "mimetype": "text/x-python",
   "name": "python",
   "nbconvert_exporter": "python",
   "pygments_lexer": "ipython3",
   "version": "3.8.8"
  },
  "nav_menu": {},
  "toc": {
   "navigate_menu": true,
   "number_sections": true,
   "sideBar": true,
   "threshold": 6,
   "toc_cell": false,
   "toc_section_display": "block",
   "toc_window_display": false
  }
 },
 "nbformat": 4,
 "nbformat_minor": 1
}
